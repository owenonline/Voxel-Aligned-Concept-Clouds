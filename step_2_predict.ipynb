{
 "cells": [
  {
   "cell_type": "code",
   "execution_count": 2,
   "metadata": {},
   "outputs": [],
   "source": [
    "import timm\n",
    "import open_clip\n",
    "import os\n",
    "os.environ['PYTORCH_CUDA_ALLOC_CONF'] = 'expandable_segments:True'\n",
    "import torch\n",
    "torch.set_grad_enabled(False)\n",
    "import psutil\n",
    "from lavis.models.eva_vit import create_eva_vit_g\n",
    "from lavis.common.registry import registry\n",
    "from omegaconf import OmegaConf\n",
    "from PIL import Image\n",
    "from tqdm import tqdm\n",
    "import gc\n",
    "import cv2\n",
    "cpu_device = torch.device('cpu')\n",
    "gpu_device = torch.device('cuda')"
   ]
  },
  {
   "cell_type": "code",
   "execution_count": 5,
   "metadata": {},
   "outputs": [
    {
     "name": "stdout",
     "output_type": "stream",
     "text": [
      "mem used gpu: 0.00 MB, reserved gpu: 0.00MB -> 0.00% of total, 0.00% reserved\n",
      "mem used cpu: 4330.40 MB -> 8.99% of total\n"
     ]
    }
   ],
   "source": [
    "def print_mem_stats():\n",
    "    mem = psutil.virtual_memory()\n",
    "    total_system_memory = mem.total / (1024 ** 2)\n",
    "    used_system_memory = mem.used / (1024 ** 2)\n",
    "    total_gpu_memory = torch.cuda.get_device_properties(0).total_memory / (1024 ** 2)\n",
    "    reserved_gpu_memory = torch.cuda.memory_reserved(0) / (1024 ** 2)\n",
    "    allocated_gpu_memory = torch.cuda.memory_allocated(0) / (1024 ** 2)\n",
    "    percent_gpu_total = (allocated_gpu_memory / total_gpu_memory)*100\n",
    "    percent_gpu_reserved = (reserved_gpu_memory / total_gpu_memory)*100\n",
    "    percent_cpu_total = (used_system_memory / total_system_memory)*100\n",
    "    print(f\"mem used gpu: {allocated_gpu_memory:.2f} MB, reserved gpu: {reserved_gpu_memory:.2f}MB -> {percent_gpu_total:.2f}% of total, {percent_gpu_reserved:.2f}% reserved\")\n",
    "    print(f\"mem used cpu: {used_system_memory:.2f} MB -> {percent_cpu_total:.2f}% of total\")\n",
    "\n",
    "print_mem_stats()"
   ]
  },
  {
   "cell_type": "code",
   "execution_count": 3,
   "metadata": {},
   "outputs": [],
   "source": [
    "import pickle\n",
    "# use the outputs from step 1\n",
    "with open('outputs.pkl', 'rb') as f:\n",
    "    outputs = pickle.load(f)"
   ]
  },
  {
   "cell_type": "code",
   "execution_count": 4,
   "metadata": {},
   "outputs": [
    {
     "name": "stdout",
     "output_type": "stream",
     "text": [
      "Position interpolate from 16x16 to 36x36\n",
      "mem used gpu: 3766.48 MB, reserved gpu: 3784.00MB -> 16.75% of total, 16.82% reserved\n",
      "mem used cpu: 4081.98 MB -> 8.47% of total\n"
     ]
    }
   ],
   "source": [
    "visual_encoder = create_eva_vit_g(512, precision='fp32').to(gpu_device)\n",
    "print_mem_stats()"
   ]
  },
  {
   "cell_type": "code",
   "execution_count": 5,
   "metadata": {},
   "outputs": [
    {
     "name": "stdout",
     "output_type": "stream",
     "text": [
      "(512, 512, 3)\n",
      "torch.Size([1, 3, 512, 512])\n",
      "mem used gpu: 3777.60 MB, reserved gpu: 4044.00MB -> 16.80% of total, 17.98% reserved\n",
      "mem used cpu: 4229.97 MB -> 8.78% of total\n"
     ]
    }
   ],
   "source": [
    "cosine_similarity = torch.nn.CosineSimilarity(dim=-1)\n",
    "\n",
    "# calculate the global feature vector\n",
    "scene_img = outputs[\"sceneshotcam\"]\n",
    "print(scene_img.shape)\n",
    "scene_tensor = torch.tensor(scene_img).permute(2, 0, 1).unsqueeze(0).float().to(gpu_device)\n",
    "\n",
    "print(scene_tensor.shape)\n",
    "global_feat = visual_encoder.forward_features(scene_tensor)\n",
    "global_feat = global_feat.half()\n",
    "global_feat = global_feat.mean(1)\n",
    "global_feat = torch.nn.functional.normalize(global_feat, dim=-1)\n",
    "FEAT_DIM = global_feat.shape[-1]\n",
    "print_mem_stats()"
   ]
  },
  {
   "cell_type": "code",
   "execution_count": 6,
   "metadata": {},
   "outputs": [
    {
     "name": "stderr",
     "output_type": "stream",
     "text": [
      "100%|██████████| 9/9 [00:03<00:00,  2.30it/s]\n"
     ]
    },
    {
     "name": "stdout",
     "output_type": "stream",
     "text": [
      "mem used gpu: 14.16 MB, reserved gpu: 42.00MB -> 0.06% of total, 0.19% reserved\n",
      "mem used cpu: 4261.21 MB -> 8.84% of total\n"
     ]
    }
   ],
   "source": [
    "import numpy as np\n",
    "\n",
    "point_feature_cameras = ['sceneshotcam', 'apple', 'milk', 'cereal', 'bread', 'banana', 'bin', 'table', 'ur5e', 'panda']\n",
    "specific_views = ['panda', 'cereal', 'milk', 'bread', 'apple', 'ur5e', 'banana', 'bin', 'table']#list(set(point_feature_cameras) - {\"sceneshotcam\"} - {f\"genpurp__{i}\" for i in range(1,6)})\n",
    "feat_per_obj = []\n",
    "obj_sim_per_unit_area = []\n",
    "for view in tqdm(specific_views):\n",
    "    # crop the image to the bounding box and run it through the visual encoder to get the feature vector for the object\n",
    "    obj_img = outputs[view]\n",
    "    # obj_img = cv2.resize(obj_img, (224, 224))\n",
    "    # obj_img = np.array(Image.open(f\"rocobench/test_images/ground truths/{view}.png\").convert(\"RGB\").resize((512, 512)))\n",
    "    img_roi = torch.tensor(obj_img).permute(2, 0, 1).unsqueeze(0).float().to(gpu_device)\n",
    "    roifeat = visual_encoder.forward_features(img_roi)\n",
    "    roifeat = roifeat.half().cuda()\n",
    "    roifeat = roifeat.mean(1)\n",
    "    roifeat = torch.nn.functional.normalize(roifeat, dim=-1)\n",
    "    feat_per_obj.append(roifeat)\n",
    "\n",
    "    # calculate the cosine similarity between the global feature vector and the feature vector for the object and save that as well\n",
    "    _sim = cosine_similarity(global_feat, roifeat)\n",
    "    obj_sim_per_unit_area.append(_sim)\n",
    "\n",
    "    torch.cuda.empty_cache()\n",
    "\n",
    "visual_encoder = None\n",
    "del visual_encoder\n",
    "gc.collect()\n",
    "torch.cuda.empty_cache()\n",
    "\n",
    "print_mem_stats()"
   ]
  },
  {
   "cell_type": "code",
   "execution_count": 7,
   "metadata": {},
   "outputs": [
    {
     "name": "stdout",
     "output_type": "stream",
     "text": [
      "global feature shape: torch.Size([1, 1408])\n"
     ]
    }
   ],
   "source": [
    "print(\"global feature shape:\", global_feat.shape)"
   ]
  },
  {
   "cell_type": "code",
   "execution_count": 8,
   "metadata": {},
   "outputs": [
    {
     "name": "stdout",
     "output_type": "stream",
     "text": [
      "tensor([[1.0010, 0.9434, 0.9692, 0.9854, 0.9736, 0.9717, 0.9727, 0.9766, 0.9771],\n",
      "        [0.9434, 1.0010, 0.9497, 0.9517, 0.9795, 0.9307, 0.9663, 0.9692, 0.9619],\n",
      "        [0.9692, 0.9497, 0.9995, 0.9785, 0.9790, 0.9648, 0.9883, 0.9795, 0.9873],\n",
      "        [0.9854, 0.9517, 0.9785, 1.0000, 0.9844, 0.9800, 0.9844, 0.9790, 0.9849],\n",
      "        [0.9736, 0.9795, 0.9790, 0.9844, 1.0000, 0.9663, 0.9902, 0.9858, 0.9893],\n",
      "        [0.9717, 0.9307, 0.9648, 0.9800, 0.9663, 1.0000, 0.9663, 0.9541, 0.9668],\n",
      "        [0.9727, 0.9663, 0.9883, 0.9844, 0.9902, 0.9663, 1.0000, 0.9902, 0.9946],\n",
      "        [0.9766, 0.9692, 0.9795, 0.9790, 0.9858, 0.9541, 0.9902, 1.0010, 0.9922],\n",
      "        [0.9771, 0.9619, 0.9873, 0.9849, 0.9893, 0.9668, 0.9946, 0.9922, 1.0010]],\n",
      "       device='cuda:0', dtype=torch.float16)\n",
      "mem used gpu: 14.16 MB, reserved gpu: 42.00MB -> 0.06% of total, 0.19% reserved\n",
      "mem used cpu: 4230.39 MB -> 8.78% of total\n",
      "['panda', 'cereal', 'milk', 'bread', 'apple', 'ur5e', 'banana', 'bin', 'table']\n",
      "tensor([0.1121, 0.1100, 0.1110, 0.1120, 0.1105, 0.1121, 0.1105, 0.1111, 0.1107],\n",
      "       device='cuda:0', dtype=torch.float16)\n"
     ]
    }
   ],
   "source": [
    "scores = torch.cat(obj_sim_per_unit_area).to(gpu_device)\n",
    "feat_per_obj = torch.cat(feat_per_obj, dim=0).to(gpu_device)\n",
    "# norm_feat_per_obj = torch.nn.functional.normalize(feat_per_obj, p=2, dim=1)\n",
    "\n",
    "# get the cosine simixlarity between the features of each object. This will be a square matrix where the (i, j)th entry is the cosine similarity between the ith and jth objects\n",
    "mask_sim_mat = torch.nn.functional.cosine_similarity(\n",
    "    feat_per_obj[:, :, None], feat_per_obj.t()[None, :, :]\n",
    ")\n",
    "mask_sim_mat_untouched = mask_sim_mat.clone()\n",
    "print(mask_sim_mat)\n",
    "mask_sim_mat.fill_diagonal_(0.0) # set the diagonal to 0 because we don't want to consider the similarity between the same object\n",
    "mask_sim_mat = mask_sim_mat.mean(1)  # avg sim of each mask with each other mask\n",
    "softmax_scores = scores.cuda() - mask_sim_mat # subtracting the object-object relevance (which can be thought of as the relevance of the object in context of the other objects) object-scene similarity (which is kind of like global relevance) gives how much more or less important that object is than all the other objects\n",
    "softmax_scores = torch.nn.functional.softmax(softmax_scores, dim=0) # apply softmax to get the final scores\n",
    "print_mem_stats()\n",
    "\n",
    "print(specific_views)\n",
    "print(softmax_scores)"
   ]
  },
  {
   "cell_type": "code",
   "execution_count": 9,
   "metadata": {},
   "outputs": [],
   "source": [
    "torch.save(mask_sim_mat_untouched, \"figure_data/blip_noneva_rendfet_sim_square.pt\")"
   ]
  },
  {
   "cell_type": "code",
   "execution_count": 9,
   "metadata": {},
   "outputs": [
    {
     "name": "stdout",
     "output_type": "stream",
     "text": [
      "torch.Size([9])\n"
     ]
    }
   ],
   "source": [
    "print(feat_per_obj.shape)"
   ]
  },
  {
   "cell_type": "code",
   "execution_count": 10,
   "metadata": {},
   "outputs": [
    {
     "name": "stdout",
     "output_type": "stream",
     "text": [
      "torch.Size([2615298, 1408])\n",
      "mem used gpu: 14.16 MB, reserved gpu: 42.00MB -> 0.06% of total, 0.19% reserved\n",
      "mem used cpu: 11434.00 MB -> 23.73% of total\n"
     ]
    }
   ],
   "source": [
    "pixelwise_features = torch.zeros(outputs['xyz_pts'].shape[0], FEAT_DIM, dtype=torch.half)#global_feat.repeat((xyz_pts.shape[0], 1))\n",
    "print(pixelwise_features.shape)#torch.zeros(xyz_pts.shape[0], FEAT_DIM, dtype=torch.half)\n",
    "print_mem_stats()"
   ]
  },
  {
   "cell_type": "code",
   "execution_count": 11,
   "metadata": {},
   "outputs": [
    {
     "name": "stdout",
     "output_type": "stream",
     "text": [
      "mem used gpu: 7037.67 MB, reserved gpu: 7082.00MB -> 31.29% of total, 31.49% reserved\n",
      "mem used cpu: 4471.89 MB -> 9.28% of total\n"
     ]
    }
   ],
   "source": [
    "pixelwise_features = pixelwise_features.to(gpu_device)\n",
    "for objidx in range(len(specific_views)):\n",
    "    _weighted_feat = (\n",
    "        softmax_scores[objidx] * global_feat + (1 - softmax_scores[objidx]) * feat_per_obj[objidx]\n",
    "    )\n",
    "    _weighted_feat = torch.nn.functional.normalize(_weighted_feat, dim=-1)\n",
    "    pixelwise_features[outputs['segmentation_pts'][specific_views[objidx]], :] = feat_per_obj[objidx]\n",
    "    # second normalization is unnecessary because all pixels in each object receive the same feature, and each point is only interacted with once.\n",
    "    # instead, we will normalize the features after voxel aggregation\n",
    "\n",
    "print_mem_stats()"
   ]
  },
  {
   "cell_type": "code",
   "execution_count": 12,
   "metadata": {},
   "outputs": [],
   "source": [
    "# we have to save the pixelwise features as a tensor so that we can do the voxel grid sampling\n",
    "# unfortunately, that doesn't work with the version of pytorch that we use this notebook\n",
    "# WIP\n",
    "torch.save(pixelwise_features.cpu(), \"blip_noneva_pixelwise_rendfet_features.pt\")"
   ]
  },
  {
   "cell_type": "code",
   "execution_count": 13,
   "metadata": {},
   "outputs": [
    {
     "name": "stdout",
     "output_type": "stream",
     "text": [
      "mem used gpu: 10.45 MB, reserved gpu: 19244.00MB -> 0.05% of total, 85.56% reserved\n",
      "mem used cpu: 3575.56 MB -> 7.42% of total\n"
     ]
    }
   ],
   "source": [
    "# xyz_pts = torch.tensor(xyz_pts)\n",
    "\n",
    "# pixelwise_features = pixelwise_features.unsqueeze(0).float()\n",
    "# xyz_pts = xyz_pts.unsqueeze(0).float()\n",
    "# pixelwise_features = pixelwise_features.permute(0, 2, 1) # 1, PCL, feat_dim -> 1, feat_dim, PCL\n",
    "# xyz_pts = xyz_pts.permute(0, 2, 1)\n",
    "# pixelwise_features = torch.nn.functional.interpolate(pixelwise_features, [15000], mode=\"nearest\")\n",
    "# xyz_pts = torch.nn.functional.interpolate(xyz_pts, [15000], mode=\"nearest\")\n",
    "# pixelwise_features = pixelwise_features.permute(0, 2, 1).to(cpu_device)\n",
    "# xyz_pts = xyz_pts.permute(0, 2, 1)\n",
    "# print_mem_stats()"
   ]
  },
  {
   "cell_type": "code",
   "execution_count": 15,
   "metadata": {},
   "outputs": [
    {
     "name": "stdout",
     "output_type": "stream",
     "text": [
      "mem used gpu: 10.42 MB, reserved gpu: 24.00MB -> 0.05% of total, 0.11% reserved\n",
      "mem used cpu: 3488.62 MB -> 7.24% of total\n"
     ]
    }
   ],
   "source": [
    "mask_sim_mat = None\n",
    "softmax_scores = None\n",
    "feat_per_obj = None\n",
    "scores = None\n",
    "outputs = None\n",
    "obj_sim_per_unit_area = None\n",
    "del mask_sim_mat\n",
    "del softmax_scores\n",
    "del feat_per_obj\n",
    "del scores\n",
    "del outputs\n",
    "del obj_sim_per_unit_area\n",
    "gc.collect()\n",
    "torch.cuda.empty_cache()\n",
    "print_mem_stats()"
   ]
  },
  {
   "cell_type": "code",
   "execution_count": 3,
   "metadata": {},
   "outputs": [],
   "source": [
    "pixelwise_features = torch.load(\"blip_noneva_pixelwise_rendfet_features.pt\").unsqueeze(0).float()\n",
    "xyz_pts = torch.load(\"blip_noneva_pixelwise_rendfet_xyz.pt\").unsqueeze(0).float()"
   ]
  },
  {
   "cell_type": "code",
   "execution_count": 6,
   "metadata": {},
   "outputs": [
    {
     "name": "stdout",
     "output_type": "stream",
     "text": [
      "mem used gpu: 0.00 MB, reserved gpu: 0.00MB -> 0.00% of total, 0.00% reserved\n",
      "mem used cpu: 4364.71 MB -> 9.06% of total\n"
     ]
    }
   ],
   "source": [
    "ckpt_path = \"checkpoints/pretrain_blip2_sam_flant5xl_v2.pth\"\n",
    "model_cfg = {\n",
    "    \"arch\": \"blip2_t5\",\n",
    "    \"model_type\": \"pretrain_flant5xl\",\n",
    "    \"use_grad_checkpoint\": False,\n",
    "}\n",
    "model_cfg = OmegaConf.create(model_cfg)\n",
    "print_mem_stats()"
   ]
  },
  {
   "cell_type": "code",
   "execution_count": 7,
   "metadata": {},
   "outputs": [
    {
     "data": {
      "application/vnd.jupyter.widget-view+json": {
       "model_id": "a181728833b94e2fb8cce09ad62a1be0",
       "version_major": 2,
       "version_minor": 0
      },
      "text/plain": [
       "Loading checkpoint shards:   0%|          | 0/2 [00:00<?, ?it/s]"
      ]
     },
     "metadata": {},
     "output_type": "display_data"
    },
    {
     "name": "stdout",
     "output_type": "stream",
     "text": [
      "mem used gpu: 0.46 MB, reserved gpu: 2.00MB -> 0.00% of total, 0.01% reserved\n",
      "mem used cpu: 20112.35 MB -> 41.74% of total\n"
     ]
    }
   ],
   "source": [
    "model = registry.get_model_class(\"blip2_t5\").from_pretrained(model_type=\"pretrain_flant5xl\")\n",
    "print_mem_stats()"
   ]
  },
  {
   "cell_type": "code",
   "execution_count": 8,
   "metadata": {},
   "outputs": [
    {
     "name": "stdout",
     "output_type": "stream",
     "text": [
      "mem used gpu: 0.46 MB, reserved gpu: 2.00MB -> 0.00% of total, 0.01% reserved\n",
      "mem used cpu: 24371.35 MB -> 50.57% of total\n"
     ]
    }
   ],
   "source": [
    "checkpoint = torch.load(ckpt_path, map_location=\"cpu\")\n",
    "print_mem_stats()"
   ]
  },
  {
   "cell_type": "code",
   "execution_count": 9,
   "metadata": {},
   "outputs": [
    {
     "name": "stdout",
     "output_type": "stream",
     "text": [
      "mem used gpu: 0.46 MB, reserved gpu: 2.00MB -> 0.00% of total, 0.01% reserved\n",
      "mem used cpu: 24370.30 MB -> 50.57% of total\n"
     ]
    }
   ],
   "source": [
    "model.load_state_dict(checkpoint[\"model\"], strict=False)\n",
    "print_mem_stats()"
   ]
  },
  {
   "cell_type": "code",
   "execution_count": 10,
   "metadata": {},
   "outputs": [
    {
     "name": "stdout",
     "output_type": "stream",
     "text": [
      "mem used gpu: 0.46 MB, reserved gpu: 2.00MB -> 0.00% of total, 0.01% reserved\n",
      "mem used cpu: 24371.53 MB -> 50.57% of total\n"
     ]
    }
   ],
   "source": [
    "model.eval()\n",
    "model.to(cpu_device)\n",
    "print_mem_stats()"
   ]
  },
  {
   "cell_type": "code",
   "execution_count": 11,
   "metadata": {},
   "outputs": [
    {
     "name": "stdout",
     "output_type": "stream",
     "text": [
      "mem used gpu: 0.46 MB, reserved gpu: 2.00MB -> 0.00% of total, 0.01% reserved\n",
      "mem used cpu: 24373.59 MB -> 50.58% of total\n"
     ]
    }
   ],
   "source": [
    "processor_cfg = {\"name\": \"blip_question\", \"prompt\": \"\"}\n",
    "processor_cfg = OmegaConf.create(processor_cfg)\n",
    "text_processor = registry.get_processor_class(processor_cfg.name).from_config(processor_cfg)\n",
    "print_mem_stats()"
   ]
  },
  {
   "cell_type": "code",
   "execution_count": 12,
   "metadata": {},
   "outputs": [
    {
     "name": "stderr",
     "output_type": "stream",
     "text": [
      "/opt/conda/envs/eval/lib/python3.8/site-packages/transformers/generation/configuration_utils.py:418: UserWarning: `num_beams` is set to 1. However, `length_penalty` is set to `1.2` -- this flag is only used in beam-based generation modes. You should set `num_beams>1` or unset `length_penalty`.\n",
      "  warnings.warn(\n"
     ]
    },
    {
     "name": "stdout",
     "output_type": "stream",
     "text": [
      "<pad> The couch is far away from the radiator.</s>\n",
      "mem used gpu: 0.46 MB, reserved gpu: 202.00MB -> 0.00% of total, 0.90% reserved\n",
      "mem used cpu: 24486.39 MB -> 50.81% of total\n"
     ]
    }
   ],
   "source": [
    "outfeat = pixelwise_features.to(cpu_device)\n",
    "xyz_pts = xyz_pts.to(cpu_device)\n",
    "prompt = text_processor(\"Describe the 3D scene in one sentence.\")\n",
    "\n",
    "model_inputs = {\"text_input\": prompt, \"pc_feat\": outfeat, \"pc\": xyz_pts}\n",
    "model_outputs = model.predict_answers(\n",
    "    samples=model_inputs,\n",
    "    max_len=50,\n",
    "    length_penalty=1.2,\n",
    "    repetition_penalty=1.5,\n",
    ")\n",
    "model_outputs = model_outputs[0]\n",
    "print(model_outputs)\n",
    "print_mem_stats()"
   ]
  },
  {
   "cell_type": "code",
   "execution_count": 13,
   "metadata": {},
   "outputs": [
    {
     "name": "stdout",
     "output_type": "stream",
     "text": [
      "torch.Size([1, 17890, 3])\n",
      "torch.Size([1, 17890, 1408])\n"
     ]
    }
   ],
   "source": [
    "print(xyz_pts.shape)\n",
    "print(pixelwise_features.shape)"
   ]
  },
  {
   "cell_type": "code",
   "execution_count": 14,
   "metadata": {},
   "outputs": [
    {
     "data": {
      "image/png": "[encoded data removed]",
      "text/plain": [
       "<Figure size 640x480 with 1 Axes>"
      ]
     },
     "metadata": {},
     "output_type": "display_data"
    }
   ],
   "source": [
    "from sklearn.manifold import TSNE\n",
    "import matplotlib.pyplot as plt\n",
    "import numpy as np\n",
    "from mpl_toolkits.mplot3d import Axes3D\n",
    "\n",
    "ax = plt.figure().add_subplot(111, projection=\"3d\")\n",
    "tsne = TSNE(n_components=3, random_state=0, learning_rate=200, init=\"random\")\n",
    "idx = np.random.choice(outfeat.shape[1], 10000)\n",
    "pc_feature = outfeat[:, idx, :]\n",
    "pc_points = xyz_pts[:, idx, :]\n",
    "pc_feature = pc_feature.squeeze(0).cpu().numpy()  # (N, 1408)\n",
    "pc_points = pc_points.squeeze(0).cpu().numpy()  # (N, 3)\n",
    "pc_feature = tsne.fit_transform(pc_feature)  # (N, 3)\n",
    "pc_feature = (pc_feature - pc_feature.min()) / (pc_feature.max() - pc_feature.min() + 1e-6) # normalize\n",
    "ax.scatter(pc_points[:, 0], pc_points[:, 1], pc_points[:, 2], c=pc_feature, s=1)\n",
    "ax.set_aspect(\"equal\")\n",
    "ax.set_xticks([])\n",
    "ax.set_yticks([])\n",
    "ax.set_zticks([])\n",
    "plt.show()"
   ]
  },
  {
   "cell_type": "code",
   "execution_count": 31,
   "metadata": {},
   "outputs": [
    {
     "name": "stderr",
     "output_type": "stream",
     "text": [
      "/opt/conda/envs/eval/lib/python3.8/site-packages/transformers/generation/configuration_utils.py:418: UserWarning: `num_beams` is set to 1. However, `length_penalty` is set to `1.2` -- this flag is only used in beam-based generation modes. You should set `num_beams>1` or unset `length_penalty`.\n",
      "  warnings.warn(\n"
     ]
    },
    {
     "name": "stdout",
     "output_type": "stream",
     "text": [
      "<pad> Agent 2: It's a cozy room with white walls and furniture. There are two chairs in the corner, one of which is near an end table</s>\n",
      "mem used gpu: 10.88 MB, reserved gpu: 204.00MB -> 0.05% of total, 0.91% reserved\n",
      "mem used cpu: 24381.20 MB -> 50.59% of total\n"
     ]
    }
   ],
   "source": [
    "alternative_feats = torch.load(\"/home/owenburns88/3D-LLM/3DLLM_BLIP2-base/assets/scene0480_00.pt\")\n",
    "alternative_pcs = torch.from_numpy(np.load(\"/home/owenburns88/3D-LLM/3DLLM_BLIP2-base/assets/scene0480_00.npy\"))\n",
    "prompt = text_processor(\"Agent 1: What's the room like??.\")\n",
    "# model_inputs = {\"text_input\": prompt, \"pc_feat\": outfeat_downsampled, \"pc\": xyz_pts_downsampled}\n",
    "model_inputs = {\"text_input\": prompt, \"pc_feat\": alternative_feats.unsqueeze(0), \"pc\": alternative_pcs.long().unsqueeze(0)}\n",
    "model_outputs = model.predict_answers(\n",
    "    samples=model_inputs,\n",
    "    max_len=50,\n",
    "    length_penalty=1.2,\n",
    "    repetition_penalty=1.5,\n",
    ")\n",
    "model_outputs = model_outputs[0]\n",
    "print(model_outputs)\n",
    "print_mem_stats()"
   ]
  },
  {
   "cell_type": "code",
   "execution_count": 3,
   "metadata": {},
   "outputs": [
    {
     "name": "stdout",
     "output_type": "stream",
     "text": [
      "x -> [66, 206]\n",
      "y -> [5, 174]\n",
      "z -> [116, 152]\n"
     ]
    }
   ],
   "source": [
    "import torch\n",
    "import numpy as np\n",
    "alternative_feats = torch.load(\"/home/owenburns88/3D-LLM/3DLLM_BLIP2-base/assets/scene0480_00.pt\")\n",
    "alternative_pcs = torch.from_numpy(np.load(\"/home/owenburns88/3D-LLM/3DLLM_BLIP2-base/assets/scene0480_00.npy\"))\n",
    "\n",
    "\n",
    "print(f\"x -> [{alternative_pcs[:,0].min()}, {alternative_pcs[:,0].max()}]\")\n",
    "print(f\"y -> [{alternative_pcs[:,1].min()}, {alternative_pcs[:,1].max()}]\")\n",
    "print(f\"z -> [{alternative_pcs[:,2].min()}, {alternative_pcs[:,2].max()}]\")"
   ]
  },
  {
   "cell_type": "code",
   "execution_count": 30,
   "metadata": {},
   "outputs": [
    {
     "data": {
      "image/png": "[encoded data removed]",
      "text/plain": [
       "<Figure size 640x480 with 1 Axes>"
      ]
     },
     "metadata": {},
     "output_type": "display_data"
    }
   ],
   "source": [
    "from sklearn.manifold import TSNE\n",
    "import matplotlib.pyplot as plt\n",
    "from mpl_toolkits.mplot3d import Axes3D\n",
    "\n",
    "# the t-sne pointcloud for one of the objaverse scenes, as a visual sanity check\n",
    "\n",
    "outfeat = alternative_feats.unsqueeze(0)\n",
    "xyz_pts = alternative_pcs.long().unsqueeze(0)\n",
    "\n",
    "ax = plt.figure().add_subplot(111, projection=\"3d\")\n",
    "tsne = TSNE(n_components=3, random_state=0, learning_rate=200, init=\"random\")\n",
    "idx = np.random.choice(outfeat.shape[1], 10000)\n",
    "pc_feature = outfeat[:, idx, :]\n",
    "pc_points = xyz_pts[:, idx, :]\n",
    "pc_feature = pc_feature.squeeze(0).cpu().numpy()  # (N, 1408)\n",
    "pc_feature = tsne.fit_transform(pc_feature)  # (N, 3)\n",
    "pc_feature = (pc_feature - pc_feature.min()) / (pc_feature.max() - pc_feature.min() + 1e-6)\n",
    "pc_points = pc_points.squeeze(0).cpu().numpy()  # (N, 3)\n",
    "ax.scatter(pc_points[:, 0], pc_points[:, 1], pc_points[:, 2], c=pc_feature, s=1)\n",
    "ax.set_aspect(\"equal\")\n",
    "ax.set_xticks([])\n",
    "ax.set_yticks([])\n",
    "ax.set_zticks([])\n",
    "plt.show()"
   ]
  }
 ],
 "metadata": {
  "kernelspec": {
   "display_name": "roco",
   "language": "python",
   "name": "python3"
  },
  "language_info": {
   "codemirror_mode": {
    "name": "ipython",
    "version": 3
   },
   "file_extension": ".py",
   "mimetype": "text/x-python",
   "name": "python",
   "nbconvert_exporter": "python",
   "pygments_lexer": "ipython3",
   "version": "3.8.19"
  }
 },
 "nbformat": 4,
 "nbformat_minor": 2
}
