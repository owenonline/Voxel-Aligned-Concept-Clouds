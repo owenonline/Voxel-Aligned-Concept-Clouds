{
 "cells": [
  {
   "cell_type": "code",
   "execution_count": 3,
   "metadata": {},
   "outputs": [
    {
     "name": "stderr",
     "output_type": "stream",
     "text": [
      "/opt/conda/envs/eval/lib/python3.8/site-packages/transformers/utils/generic.py:311: UserWarning: torch.utils._pytree._register_pytree_node is deprecated. Please use torch.utils._pytree.register_pytree_node instead.\n",
      "  torch.utils._pytree._register_pytree_node(\n",
      "/opt/conda/envs/eval/lib/python3.8/site-packages/transformers/utils/generic.py:311: UserWarning: torch.utils._pytree._register_pytree_node is deprecated. Please use torch.utils._pytree.register_pytree_node instead.\n",
      "  torch.utils._pytree._register_pytree_node(\n"
     ]
    }
   ],
   "source": [
    "import timm\n",
    "import open_clip\n",
    "import os\n",
    "os.environ['PYTORCH_CUDA_ALLOC_CONF'] = 'expandable_segments:True'\n",
    "import torch\n",
    "torch.set_grad_enabled(False)\n",
    "import psutil\n",
    "from lavis.models.eva_vit import create_eva_vit_g\n",
    "from lavis.common.registry import registry\n",
    "from omegaconf import OmegaConf\n",
    "from PIL import Image\n",
    "from tqdm import tqdm\n",
    "import gc\n",
    "import cv2\n",
    "cpu_device = torch.device('cpu')\n",
    "gpu_device = torch.device('cuda')"
   ]
  },
  {
   "cell_type": "code",
   "execution_count": 2,
   "metadata": {},
   "outputs": [
    {
     "name": "stdout",
     "output_type": "stream",
     "text": [
      "mem used gpu: 0.00 MB, reserved gpu: 0.00MB -> 0.00% of total, 0.00% reserved\n",
      "mem used cpu: 3386.56 MB -> 7.03% of total\n"
     ]
    }
   ],
   "source": [
    "def print_mem_stats():\n",
    "    mem = psutil.virtual_memory()\n",
    "    total_system_memory = mem.total / (1024 ** 2)\n",
    "    used_system_memory = mem.used / (1024 ** 2)\n",
    "    total_gpu_memory = torch.cuda.get_device_properties(0).total_memory / (1024 ** 2)\n",
    "    reserved_gpu_memory = torch.cuda.memory_reserved(0) / (1024 ** 2)\n",
    "    allocated_gpu_memory = torch.cuda.memory_allocated(0) / (1024 ** 2)\n",
    "    percent_gpu_total = (allocated_gpu_memory / total_gpu_memory)*100\n",
    "    percent_gpu_reserved = (reserved_gpu_memory / total_gpu_memory)*100\n",
    "    percent_cpu_total = (used_system_memory / total_system_memory)*100\n",
    "    print(f\"mem used gpu: {allocated_gpu_memory:.2f} MB, reserved gpu: {reserved_gpu_memory:.2f}MB -> {percent_gpu_total:.2f}% of total, {percent_gpu_reserved:.2f}% reserved\")\n",
    "    print(f\"mem used cpu: {used_system_memory:.2f} MB -> {percent_cpu_total:.2f}% of total\")\n",
    "\n",
    "print_mem_stats()"
   ]
  },
  {
   "cell_type": "code",
   "execution_count": 4,
   "metadata": {},
   "outputs": [],
   "source": [
    "import pickle\n",
    "# use the outputs from step 1\n",
    "with open('outputs.pkl', 'rb') as f:\n",
    "    outputs = pickle.load(f)"
   ]
  },
  {
   "cell_type": "code",
   "execution_count": 4,
   "metadata": {},
   "outputs": [
    {
     "name": "stdout",
     "output_type": "stream",
     "text": [
      "Position interpolate from 16x16 to 36x36\n",
      "Visual encoder took 24.572280883789062 seconds\n"
     ]
    }
   ],
   "source": [
    "from time import time\n",
    "\n",
    "visual_encoder_start_time = time()\n",
    "\n",
    "visual_encoder = create_eva_vit_g(512, precision='fp32').to(gpu_device)\n",
    "\n",
    "visual_encoder_end_time = time()\n",
    "print(f\"Visual encoder took {visual_encoder_end_time - visual_encoder_start_time} seconds\")"
   ]
  },
  {
   "cell_type": "code",
   "execution_count": 5,
   "metadata": {},
   "outputs": [
    {
     "name": "stdout",
     "output_type": "stream",
     "text": [
      "(512, 512, 3)\n",
      "torch.Size([1, 3, 512, 512])\n",
      "Global feature vector calculation took 1.047487735748291 seconds\n"
     ]
    }
   ],
   "source": [
    "global_sim_time = time()\n",
    "\n",
    "cosine_similarity = torch.nn.CosineSimilarity(dim=-1)\n",
    "\n",
    "# calculate the global feature vector\n",
    "scene_img = outputs[\"sceneshotcam\"]\n",
    "print(scene_img.shape)\n",
    "scene_tensor = torch.tensor(scene_img).permute(2, 0, 1).unsqueeze(0).float().to(gpu_device)\n",
    "\n",
    "print(scene_tensor.shape)\n",
    "global_feat = visual_encoder(scene_tensor)\n",
    "global_feat = global_feat.half()\n",
    "global_feat = global_feat.mean(1)\n",
    "global_feat = torch.nn.functional.normalize(global_feat, dim=-1)\n",
    "FEAT_DIM = global_feat.shape[-1]\n",
    "\n",
    "global_sim_end_time = time()\n",
    "print(f\"Global feature vector calculation took {global_sim_end_time - global_sim_time} seconds\")"
   ]
  },
  {
   "cell_type": "code",
   "execution_count": 6,
   "metadata": {},
   "outputs": [
    {
     "name": "stderr",
     "output_type": "stream",
     "text": [
      "100%|██████████| 9/9 [00:03<00:00,  2.39it/s]\n"
     ]
    },
    {
     "name": "stdout",
     "output_type": "stream",
     "text": [
      "Local feature vector calculation took 3.7768161296844482 seconds\n"
     ]
    }
   ],
   "source": [
    "import numpy as np\n",
    "\n",
    "local_sim_time = time()\n",
    "\n",
    "point_feature_cameras = ['sceneshotcam', 'apple', 'milk', 'cereal', 'bread', 'banana', 'bin', 'table', 'ur5e', 'panda']\n",
    "specific_views = ['panda', 'cereal', 'milk', 'bread', 'apple', 'ur5e', 'banana', 'bin', 'table']#list(set(point_feature_cameras) - {\"sceneshotcam\"} - {f\"genpurp__{i}\" for i in range(1,6)})\n",
    "feat_per_obj = []\n",
    "obj_sim_per_unit_area = []\n",
    "for view in tqdm(specific_views):\n",
    "    obj_img = outputs[view]\n",
    "    img_roi = torch.tensor(obj_img).permute(2, 0, 1).unsqueeze(0).float().to(gpu_device)\n",
    "    roifeat = visual_encoder(img_roi)\n",
    "    roifeat = roifeat.half().cuda()\n",
    "    roifeat = roifeat.mean(1)\n",
    "    roifeat = torch.nn.functional.normalize(roifeat, dim=-1)\n",
    "    feat_per_obj.append(roifeat)\n",
    "\n",
    "    # calculate the cosine similarity between the global feature vector and the feature vector for the object and save that as well\n",
    "    _sim = cosine_similarity(global_feat, roifeat)\n",
    "    obj_sim_per_unit_area.append(_sim)\n",
    "\n",
    "    torch.cuda.empty_cache()\n",
    "\n",
    "local_sim_end_time = time()\n",
    "print(f\"Local feature vector calculation took {local_sim_end_time - local_sim_time} seconds\")\n",
    "\n",
    "visual_encoder = None\n",
    "del visual_encoder\n",
    "gc.collect()\n",
    "torch.cuda.empty_cache()"
   ]
  },
  {
   "cell_type": "code",
   "execution_count": 7,
   "metadata": {},
   "outputs": [
    {
     "name": "stdout",
     "output_type": "stream",
     "text": [
      "Score calculation took 0.0043125152587890625 seconds\n",
      "['panda', 'cereal', 'milk', 'bread', 'apple', 'ur5e', 'banana', 'bin', 'table']\n",
      "tensor([0.1115, 0.1098, 0.1115, 0.1118, 0.1106, 0.1111, 0.1110, 0.1118, 0.1111],\n",
      "       device='cuda:0', dtype=torch.float16)\n"
     ]
    }
   ],
   "source": [
    "score_time = time()\n",
    "\n",
    "scores = torch.cat(obj_sim_per_unit_area).to(gpu_device)\n",
    "feat_per_obj = torch.cat(feat_per_obj, dim=0).to(gpu_device)\n",
    "\n",
    "# get the cosine simixlarity between the features of each object. This will be a square matrix where the (i, j)th entry is the cosine similarity between the ith and jth objects\n",
    "mask_sim_mat = torch.nn.functional.cosine_similarity(\n",
    "    feat_per_obj[:, :, None], feat_per_obj.t()[None, :, :]\n",
    ")\n",
    "mask_sim_mat_untouched = mask_sim_mat.clone()\n",
    "mask_sim_mat.fill_diagonal_(0.0) # set the diagonal to 0 because we don't want to consider the similarity between the same object\n",
    "mask_sim_mat = mask_sim_mat.mean(1)  # avg sim of each mask with each other mask\n",
    "softmax_scores = scores.cuda() - mask_sim_mat # subtracting the object-object relevance (which can be thought of as the relevance of the object in context of the other objects) object-scene similarity (which is kind of like global relevance) gives how much more or less important that object is than all the other objects\n",
    "softmax_scores = torch.nn.functional.softmax(softmax_scores, dim=0) # apply softmax to get the final scores\n",
    "\n",
    "score_end_time = time()\n",
    "print(f\"Score calculation took {score_end_time - score_time} seconds\")\n",
    "\n",
    "print(specific_views)\n",
    "print(softmax_scores)"
   ]
  },
  {
   "cell_type": "code",
   "execution_count": 9,
   "metadata": {},
   "outputs": [],
   "source": [
    "torch.save(mask_sim_mat_untouched, \"figure_data/blip_noneva_rendfet_sim_square.pt\")"
   ]
  },
  {
   "cell_type": "code",
   "execution_count": 8,
   "metadata": {},
   "outputs": [
    {
     "name": "stdout",
     "output_type": "stream",
     "text": [
      "Pixelwise feature calculation took 1.4797210693359375 seconds\n",
      "mem used gpu: 5007.87 MB, reserved gpu: 5042.00MB -> 22.27% of total, 22.42% reserved\n",
      "mem used cpu: 3572.83 MB -> 7.41% of total\n"
     ]
    }
   ],
   "source": [
    "pixelwise_start_time = time()\n",
    "\n",
    "pixelwise_features = torch.zeros(outputs['xyz_pts'].shape[0], FEAT_DIM, dtype=torch.half)\n",
    "pixelwise_features = pixelwise_features.to(gpu_device)\n",
    "for objidx in range(len(specific_views)):\n",
    "    _weighted_feat = (\n",
    "        softmax_scores[objidx] * global_feat + (1 - softmax_scores[objidx]) * feat_per_obj[objidx]\n",
    "    )\n",
    "    _weighted_feat = torch.nn.functional.normalize(_weighted_feat, dim=-1)\n",
    "    pixelwise_features[outputs['segmentation_pts'][specific_views[objidx]], :] = _weighted_feat\n",
    "    # second normalization is unnecessary because all pixels in each object receive the same feature, and each point is only interacted with once.\n",
    "    # instead, we will normalize the features after voxel aggregation\n",
    "\n",
    "pixelwise_end_time = time()\n",
    "print(f\"Pixelwise feature calculation took {pixelwise_end_time - pixelwise_start_time} seconds\")\n",
    "\n",
    "print_mem_stats()"
   ]
  },
  {
   "cell_type": "markdown",
   "metadata": {},
   "source": [
    "- It has been helpful to keep track of this metric to know when I've done something that messed up the feature extraction pipeline."
   ]
  },
  {
   "cell_type": "code",
   "execution_count": 10,
   "metadata": {},
   "outputs": [
    {
     "data": {
      "image/png": "[encoded data removed]",
      "text/plain": [
       "<Figure size 640x480 with 2 Axes>"
      ]
     },
     "metadata": {},
     "output_type": "display_data"
    }
   ],
   "source": [
    "our_std = torch.std(pixelwise_features, dim=0)\n",
    "our_mean = torch.mean(pixelwise_features, dim=0)\n",
    "import matplotlib.pyplot as plt\n",
    "import numpy as np\n",
    "\n",
    "fig, axs = plt.subplots(2)\n",
    "axs[0].hist(our_std.cpu().numpy(), bins=100, alpha=0.5, label=\"our std\")\n",
    "axs[0].legend()\n",
    "axs[1].hist(our_mean.cpu().numpy(), bins=100, alpha=0.5, label=\"our mean\")\n",
    "axs[1].legend()\n",
    "plt.show()"
   ]
  },
  {
   "cell_type": "code",
   "execution_count": 9,
   "metadata": {},
   "outputs": [],
   "source": [
    "# we have to save the pixelwise features as a tensor so that we can do the voxel grid sampling\n",
    "# unfortunately, that doesn't work with the version of pytorch that we use this notebook\n",
    "# WIP\n",
    "torch.save(pixelwise_features.cpu(), \"blip_noneva_pixelwise_rendfet_features.pt\")"
   ]
  }
 ],
 "metadata": {
  "kernelspec": {
   "display_name": "roco",
   "language": "python",
   "name": "python3"
  },
  "language_info": {
   "codemirror_mode": {
    "name": "ipython",
    "version": 3
   },
   "file_extension": ".py",
   "mimetype": "text/x-python",
   "name": "python",
   "nbconvert_exporter": "python",
   "pygments_lexer": "ipython3",
   "version": "3.8.19"
  }
 },
 "nbformat": 4,
 "nbformat_minor": 2
}
