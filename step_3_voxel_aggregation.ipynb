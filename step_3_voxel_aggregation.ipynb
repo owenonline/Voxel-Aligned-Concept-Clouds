{
 "cells": [
  {
   "cell_type": "code",
   "execution_count": null,
   "metadata": {},
   "outputs": [],
   "source": [
    "import torch\n",
    "import open3d.ml.torch as ml3d\n",
    "import pickle\n",
    "\n",
    "# use roco4 for this notebook\n",
    "\n",
    "with open('outputs.pkl', 'rb') as f:\n",
    "    outputs = pickle.load(f)\n",
    "\n",
    "# clip stuff\n",
    "# pixelwise_features = torch.load(\"clip_features.pt\").float().cpu()\n",
    "# xyz_pts = torch.load(\"clip_xyz.pt\").float().cpu()\n",
    "\n",
    "# blip stuff\n",
    "pixelwise_features = torch.load(\"blip_noneva_pixelwise_rendfet_features.pt\").float().cpu()\n",
    "xyz_pts = torch.tensor(outputs['xyz_pts']).float().cpu()\n",
    "\n",
    "\n",
    "# sanity check\n",
    "print(pixelwise_features.shape)\n",
    "print(xyz_pts.shape)\n",
    "print(pixelwise_features[1000])\n",
    "print(xyz_pts[1000])"
   ]
  },
  {
   "cell_type": "markdown",
   "metadata": {},
   "source": [
    "- First, since we initialized the feature matrix as a matrix of zeros, we remove any rows that didn't get assigned to a class so they don't impact the representation of any other points."
   ]
  },
  {
   "cell_type": "code",
   "execution_count": null,
   "metadata": {},
   "outputs": [],
   "source": [
    "from time import time\n",
    "\n",
    "zero_time = time()\n",
    "zero_row_indices = torch.all(pixelwise_features == 0, dim=1)\n",
    "pixelwise_features = pixelwise_features[~zero_row_indices]\n",
    "xyz_pts = xyz_pts[~zero_row_indices.cpu().numpy()]\n",
    "print(\"Time taken to remove zero rows: \", time() - zero_time)\n",
    "\n",
    "# sanity check\n",
    "print(pixelwise_features.shape)\n",
    "print(xyz_pts.shape)\n",
    "print(pixelwise_features[1000])\n",
    "print(xyz_pts[1000])"
   ]
  },
  {
   "cell_type": "code",
   "execution_count": null,
   "metadata": {},
   "outputs": [],
   "source": [
    "i = 0\n",
    "agg_rate = 0.1\n",
    "pts_remaining = [xyz_pts.shape[0]]\n",
    "while xyz_pts.shape[0] > 20000:\n",
    "    xyz_pts, pixelwise_features = ml3d.ops.voxel_pooling(xyz_pts, pixelwise_features, agg_rate, position_fn='nearest_neighbor', feature_fn='nearest_neighbor')\n",
    "    i += 1\n",
    "\n",
    "    agg_rate += 0.1\n",
    "    pts_remaining.append(xyz_pts.shape[0])\n",
    "\n",
    "print(f\"Completed voxel aggregation with {xyz_pts.shape[0]} points\")"
   ]
  },
  {
   "cell_type": "code",
   "execution_count": null,
   "metadata": {},
   "outputs": [],
   "source": [
    "import matplotlib.pyplot as plt\n",
    "plt.plot(pts_remaining)\n",
    "plt.xlabel(\"Voxel aggregation iteration\")\n",
    "plt.ylabel(\"Number of points remaining\")\n",
    "plt.title(\"Voxel aggregation iterations vs. number of points remaining\")\n",
    "plt.show()"
   ]
  },
  {
   "cell_type": "code",
   "execution_count": null,
   "metadata": {},
   "outputs": [],
   "source": [
    "import matplotlib.pyplot as plt\n",
    "import open3d as o3d\n",
    "\n",
    "fig = plt.figure(figsize=(6, 6), dpi=160)\n",
    "ax = fig.add_subplot(111, projection=\"3d\")\n",
    "background_color = (1.0, 1.0, 1.0)\n",
    "ax.set_facecolor(background_color)\n",
    "ax.w_xaxis.set_pane_color(background_color)  # type: ignore\n",
    "ax.w_yaxis.set_pane_color(background_color)  # type: ignore\n",
    "ax.w_zaxis.set_pane_color(background_color)  # type: ignore\n",
    "\n",
    "x, y, z = (\n",
    "    xyz_pts[:, 0],\n",
    "    xyz_pts[:, 1],\n",
    "    xyz_pts[:, 2],\n",
    ")\n",
    "ax.scatter(\n",
    "    x,\n",
    "    y,\n",
    "    z,\n",
    ")\n",
    "plt.tight_layout(pad=0)\n",
    "# plt.show()\n",
    "\n",
    "point_cloud = o3d.geometry.PointCloud()\n",
    "point_cloud.points = o3d.utility.Vector3dVector(xyz_pts)\n",
    "\n",
    "# Save the point cloud to a .ply file\n",
    "o3d.io.write_point_cloud(\"rotated_point_cloud_aggregated.ply\", point_cloud)"
   ]
  },
  {
   "cell_type": "code",
   "execution_count": null,
   "metadata": {},
   "outputs": [],
   "source": [
    "# now we normalize the features for the image as a whole\n",
    "pixelwise_features = torch.nn.functional.normalize(pixelwise_features, dim=-1)"
   ]
  },
  {
   "cell_type": "code",
   "execution_count": null,
   "metadata": {},
   "outputs": [],
   "source": [
    "torch.save(pixelwise_features, \"blip_noneva_pixelwise_rendfet_features_reduced.pt\")\n",
    "torch.save(xyz_pts, \"blip_noneva_pixelwise_rendfet_xyz_reduced.pt\")"
   ]
  }
 ],
 "metadata": {
  "kernelspec": {
   "display_name": "roco4",
   "language": "python",
   "name": "python3"
  },
  "language_info": {
   "codemirror_mode": {
    "name": "ipython",
    "version": 3
   },
   "file_extension": ".py",
   "mimetype": "text/x-python",
   "name": "python",
   "nbconvert_exporter": "python",
   "pygments_lexer": "ipython3",
   "version": "3.8.19"
  }
 },
 "nbformat": 4,
 "nbformat_minor": 2
}
